{
 "cells": [
  {
   "cell_type": "code",
   "execution_count": null,
   "metadata": {},
   "outputs": [],
   "source": [
    "import pandas as pd\n",
    "\n",
    "resultados_exames = pd.read_csv('./exames.csv');\n",
    "resultados_exames.head()"
   ]
  },
  {
   "cell_type": "code",
   "execution_count": null,
   "metadata": {},
   "outputs": [],
   "source": [
    "from sklearn.model_selection import train_test_split\n",
    "from numpy import random\n",
    "\n",
    "random.seed(123143)\n",
    "\n",
    "valores_exames = resultados_exames.drop(['id','diagnostico'], axis=1);\n",
    "diagnosticos = resultados_exames.diagnostico\n",
    "\n",
    "x_treino, x_teste, y_treino, y_teste = train_test_split(valores_exames, diagnosticos)"
   ]
  },
  {
   "cell_type": "code",
   "execution_count": null,
   "metadata": {},
   "outputs": [],
   "source": [
    "# from sklearn.ensemble import RandomForestClassifier\n",
    "\n",
    "# classificador = RandomForestClassifier(n_estimators=100)\n",
    "# classificador.fit(x_treino, y_treino)\n",
    "# score = classificador.score(x_teste, y_teste)\n",
    "# score"
   ]
  },
  {
   "cell_type": "code",
   "execution_count": null,
   "metadata": {},
   "outputs": [],
   "source": [
    "resultados_exames.isnull().sum()"
   ]
  },
  {
   "cell_type": "code",
   "execution_count": null,
   "metadata": {},
   "outputs": [],
   "source": [
    "from sklearn.ensemble import RandomForestClassifier\n",
    "from sklearn.model_selection import train_test_split\n",
    "from numpy import random\n",
    "\n",
    "random.seed(123143)\n",
    "\n",
    "valores_exames = resultados_exames.drop(['id','diagnostico'], axis=1);\n",
    "diagnosticos = resultados_exames.diagnostico\n",
    "valores_exames_v1 = valores_exames.drop(columns='exame_33')\n",
    "\n",
    "x_treino, x_teste, y_treino, y_teste = train_test_split(valores_exames_v1, diagnosticos, test_size=0.3)\n",
    "\n",
    "classificador = RandomForestClassifier(n_estimators=100)\n",
    "classificador.fit(x_treino, y_treino)\n",
    "score = classificador.score(x_teste, y_teste)\n",
    "score*100"
   ]
  },
  {
   "cell_type": "code",
   "execution_count": null,
   "metadata": {},
   "outputs": [],
   "source": [
    "from sklearn.dummy import DummyClassifier\n",
    "from numpy import random\n",
    "\n",
    "random.seed(123143)\n",
    "dummie_classifier = DummyClassifier(strategy='most_frequent')\n",
    "dummie_classifier.fit(x_treino, y_treino)\n",
    "dummie_score = dummie_classifier.score(x_teste, y_teste)\n",
    "dummie_score*100"
   ]
  },
  {
   "cell_type": "code",
   "execution_count": null,
   "metadata": {},
   "outputs": [],
   "source": [
    "dados_plot = pd.concat([diagnosticos, valores_exames_v1.iloc[:,0:10]], axis = 1)\n",
    "dados_plot = pd.melt(dados_plot, id_vars='diagnostico', var_name='exames', value_name='valores')\n",
    "dados_plot"
   ]
  },
  {
   "cell_type": "code",
   "execution_count": null,
   "metadata": {},
   "outputs": [],
   "source": [
    "import seaborn as sns\n",
    "import matplotlib.pyplot as plt\n",
    "\n",
    "plt.figure(figsize=(10, 10))\n",
    "plt.xticks(rotation=90)\n",
    "sns.violinplot(x = 'exames', y = 'valores', hue = 'diagnostico', data = dados_plot)"
   ]
  },
  {
   "cell_type": "code",
   "execution_count": null,
   "metadata": {},
   "outputs": [],
   "source": [
    "from sklearn.preprocessing import StandardScaler\n",
    "\n",
    "scaller = StandardScaler()\n",
    "scaller.fit(valores_exames_v1)\n",
    "valores_exames_v2 = scaller.transform(valores_exames_v1)"
   ]
  },
  {
   "cell_type": "code",
   "execution_count": null,
   "metadata": {},
   "outputs": [],
   "source": []
  },
  {
   "cell_type": "code",
   "execution_count": null,
   "metadata": {},
   "outputs": [],
   "source": [
    "import seaborn as sns\n",
    "import matplotlib.pyplot as plt\n",
    "from sklearn.preprocessing import StandardScaler\n",
    "\n",
    "scaller = StandardScaler()\n",
    "scaller.fit(valores_exames_v1)\n",
    "valores_exames_v2 = pd.DataFrame(scaller.transform(valores_exames_v1), columns = valores_exames_v1.keys())\n",
    "\n",
    "dados_plot = pd.concat([diagnosticos, valores_exames_v2.iloc[:,0:10]], axis = 1)\n",
    "dados_plot = pd.melt(dados_plot, id_vars='diagnostico', var_name='exames', value_name='valores')\n",
    "dados_plot\n",
    "\n",
    "plt.figure(figsize=(10, 10))\n",
    "plt.xticks(rotation=90)\n",
    "sns.violinplot(x = 'exames', y = 'valores', hue = 'diagnostico', data = dados_plot, split = True)"
   ]
  },
  {
   "cell_type": "code",
   "execution_count": null,
   "metadata": {},
   "outputs": [],
   "source": [
    "def grafico_violino(valores, inicio, fim):\n",
    "    dados_plot = pd.concat([diagnosticos, valores.iloc[:,inicio:fim]], axis = 1)\n",
    "    dados_plot = pd.melt(dados_plot, id_vars='diagnostico', var_name='exames', value_name='valores')\n",
    "    dados_plot\n",
    "\n",
    "    plt.figure(figsize=(10, 10))\n",
    "    plt.xticks(rotation=90)\n",
    "    sns.violinplot(x = 'exames', y = 'valores', hue = 'diagnostico', data = dados_plot, split = True)\n",
    "\n",
    "grafico_violino(valores_exames_v2, 10, 21)"
   ]
  },
  {
   "cell_type": "code",
   "execution_count": null,
   "metadata": {},
   "outputs": [],
   "source": [
    "grafico_violino(valores_exames_v2, 21, 32)"
   ]
  },
  {
   "cell_type": "code",
   "execution_count": null,
   "metadata": {},
   "outputs": [],
   "source": [
    "valores_exames_v3 = valores_exames_v2.drop(columns = ['exame_29', 'exame_4'])\n",
    "\n",
    "def classificar(valores):\n",
    "    SEED = 1234\n",
    "    random.seed(SEED)\n",
    "    x_treino, x_teste, y_treino, y_teste = train_test_split(valores, diagnosticos, test_size=0.3)\n",
    "\n",
    "    classificador = RandomForestClassifier(n_estimators=100)\n",
    "    classificador.fit(x_treino, y_treino)\n",
    "    score = classificador.score(x_teste, y_teste)\n",
    "    print('Acurácia %.2f%%' % (score*100))\n",
    "\n",
    "classificar(valores_exames_v3)"
   ]
  },
  {
   "cell_type": "code",
   "execution_count": null,
   "metadata": {},
   "outputs": [],
   "source": [
    "correlation = valores_exames_v3.corr()\n",
    "\n",
    "plt.figure(figsize=(20,20))\n",
    "sns.heatmap(correlation, annot = True, fmt = '.1f')"
   ]
  },
  {
   "cell_type": "code",
   "execution_count": null,
   "metadata": {},
   "outputs": [],
   "source": [
    "correlation_v1 = correlation[correlation > 0.99]\n",
    "correlation_v2 = correlation_v1.sum()\n",
    "correlation_v3 = correlation_v2[correlation_v2 > 1]\n",
    "correlation_v3"
   ]
  },
  {
   "cell_type": "code",
   "execution_count": null,
   "metadata": {},
   "outputs": [],
   "source": [
    "valores_exames_v4 = valores_exames_v3.drop(columns = correlation_v3.keys())\n",
    "valores_exames_v4.head()"
   ]
  },
  {
   "cell_type": "code",
   "execution_count": null,
   "metadata": {},
   "outputs": [],
   "source": [
    "classificar(valores_exames_v4)"
   ]
  },
  {
   "cell_type": "code",
   "execution_count": null,
   "metadata": {},
   "outputs": [],
   "source": [
    "valores_exames_v5 = valores_exames_v3.drop(columns=['exame_3', 'exame_24'])\n",
    "classificar(valores_exames_v5)"
   ]
  },
  {
   "cell_type": "code",
   "execution_count": null,
   "metadata": {},
   "outputs": [],
   "source": [
    "from sklearn.feature_selection import SelectKBest\n",
    "from sklearn.feature_selection import chi2\n",
    "\n",
    "k_best = SelectKBest(chi2, k = 5)"
   ]
  },
  {
   "cell_type": "code",
   "execution_count": null,
   "metadata": {},
   "outputs": [],
   "source": [
    "valores_exames_v6 = valores_exames_v1.drop(columns=['exame_4', 'exame_29', 'exame_3', 'exame_24'])"
   ]
  },
  {
   "cell_type": "code",
   "execution_count": null,
   "metadata": {},
   "outputs": [],
   "source": [
    "SEED = 1234\n",
    "random.seed(SEED)\n",
    "x_treino, x_teste, y_treino, y_teste = train_test_split(valores_exames_v6, diagnosticos, test_size=0.3)\n",
    "\n",
    "k_best.fit(x_treino, y_treino)\n",
    "treino_kbest = k_best.transform(x_treino)\n",
    "teste_kbest = k_best.transform(x_teste)"
   ]
  },
  {
   "cell_type": "code",
   "execution_count": null,
   "metadata": {},
   "outputs": [],
   "source": [
    "treino_kbest.shape"
   ]
  },
  {
   "cell_type": "code",
   "execution_count": null,
   "metadata": {},
   "outputs": [],
   "source": [
    "classifier = RandomForestClassifier(n_estimators=100, random_state = 1234)\n",
    "classifier.fit(treino_kbest, y_treino)\n",
    "print('Acurácia %.2f%%' % (classifier.score(treino_kbest, y_treino)*100))"
   ]
  },
  {
   "cell_type": "code",
   "execution_count": null,
   "metadata": {},
   "outputs": [],
   "source": [
    "from sklearn.metrics import confusion_matrix\n",
    "\n",
    "matriz_confusao = confusion_matrix(y_teste, classifier.predict(teste_kbest))"
   ]
  },
  {
   "cell_type": "code",
   "execution_count": null,
   "metadata": {},
   "outputs": [],
   "source": [
    "sns.set(font_scale=2)\n",
    "sns.heatmap(matriz_confusao, annot = True, fmt='d').set(xlabel='Predição', ylabel = 'Real')"
   ]
  },
  {
   "cell_type": "code",
   "execution_count": null,
   "metadata": {},
   "outputs": [],
   "source": [
    "from sklearn.feature_selection import RFE\n",
    "\n",
    "SEED = 1234\n",
    "random.seed(SEED)\n",
    "x_treino, x_teste, y_treino, y_teste = train_test_split(valores_exames_v6, diagnosticos, test_size=0.3)\n",
    "\n",
    "classifier = RandomForestClassifier(n_estimators=100, random_state = SEED)\n",
    "classifier.fit(x_treino, y_treino)\n",
    "selecionador_rfe = RFE(estimator=classifier, n_features_to_select = 5, step = 1)\n",
    "selecionador_rfe.fit(x_treino, y_treino)\n",
    "treino_rfe = selecionador_rfe.transform(x_treino)\n",
    "teste_rfe = selecionador_rfe.transform(x_teste)\n",
    "\n",
    "classifier.fit(treino_rfe, y_treino)\n",
    "matriz_confusao = confusion_matrix(y_teste, classifier.predict(teste_rfe))\n",
    "sns.set(font_scale=2)\n",
    "sns.heatmap(matriz_confusao, annot = True, fmt='d').set(xlabel='Predição', ylabel = 'Real')\n",
    "classifier.score(teste_rfe, y_teste)\n",
    "\n"
   ]
  },
  {
   "cell_type": "code",
   "execution_count": null,
   "metadata": {},
   "outputs": [],
   "source": [
    "from sklearn.feature_selection import RFECV\n",
    "\n",
    "SEED = 1234\n",
    "random.seed(SEED)\n",
    "x_treino, x_teste, y_treino, y_teste = train_test_split(valores_exames_v6, diagnosticos, test_size=0.3)\n",
    "\n",
    "classifier = RandomForestClassifier(n_estimators=100, random_state = SEED)\n",
    "classifier.fit(x_treino, y_treino)\n",
    "selecionador_rfecv = RFECV(estimator=classifier, cv = 5, scoring='accuracy')\n",
    "selecionador_rfecv.fit(x_treino, y_treino)\n",
    "treino_rfecv = selecionador_rfecv.transform(x_treino)\n",
    "teste_rfecv = selecionador_rfecv.transform(x_teste)\n",
    "\n",
    "classifier.fit(treino_rfecv, y_treino)\n",
    "matriz_confusao = confusion_matrix(y_teste, classifier.predict(teste_rfecv))\n",
    "sns.set(font_scale=2)\n",
    "sns.heatmap(matriz_confusao, annot = True, fmt='d').set(xlabel='Predição', ylabel = 'Real')\n",
    "classifier.score(teste_rfecv, y_teste)"
   ]
  },
  {
   "cell_type": "code",
   "execution_count": null,
   "metadata": {},
   "outputs": [],
   "source": [
    "x_treino.columns[selecionador_rfe.support_]"
   ]
  },
  {
   "cell_type": "code",
   "execution_count": null,
   "metadata": {},
   "outputs": [],
   "source": [
    "import matplotlib.pyplot as plt\n",
    "\n",
    "plt.figure(figsize=(14,8))\n",
    "plt.xlabel('Número de exames')\n",
    "plt.ylabel('Acurácia')\n",
    "\n",
    "eixo_x = range(1, len(selecionador_rfecv.cv_results_['mean_test_score'])+1)\n",
    "eixo_y = selecionador_rfecv.cv_results_['mean_test_score']\n",
    "plt.plot(eixo_x, eixo_y)\n",
    "plt.show()"
   ]
  },
  {
   "cell_type": "code",
   "execution_count": null,
   "metadata": {},
   "outputs": [],
   "source": [
    "valores_exames_v7 = selecionador_rfe.transform(valores_exames_v6)"
   ]
  },
  {
   "cell_type": "code",
   "execution_count": null,
   "metadata": {},
   "outputs": [],
   "source": [
    "valores_exames_v7.shape"
   ]
  },
  {
   "cell_type": "code",
   "execution_count": null,
   "metadata": {},
   "outputs": [],
   "source": [
    "x = valores_exames_v7[:, 0]\n",
    "y = valores_exames_v7[:, 1]\n",
    "plt.figure(figsize=(14,8))\n",
    "sns.scatterplot(x = x, y = y, hue = diagnosticos)\n"
   ]
  },
  {
   "cell_type": "code",
   "execution_count": null,
   "metadata": {},
   "outputs": [],
   "source": [
    "from sklearn.decomposition import PCA\n",
    "\n",
    "pca = PCA(n_components = 2)\n",
    "valores_exames_v8 = pca.fit_transform(valores_exames_v5)\n",
    "\n",
    "x = valores_exames_v8[:, 0]\n",
    "y = valores_exames_v8[:, 1]\n",
    "plt.figure(figsize=(14,8))\n",
    "sns.scatterplot(x = x, y = y, hue = diagnosticos)"
   ]
  },
  {
   "cell_type": "code",
   "execution_count": null,
   "metadata": {},
   "outputs": [],
   "source": [
    "valores_exames_v5"
   ]
  },
  {
   "cell_type": "code",
   "execution_count": null,
   "metadata": {},
   "outputs": [],
   "source": [
    "from sklearn.manifold import TSNE\n",
    "\n",
    "tsne = TSNE(n_components = 2)\n",
    "valores_exames_v9 = tsne.fit_transform(valores_exames_v5)\n",
    "\n",
    "x = valores_exames_v9[:, 0]\n",
    "y = valores_exames_v9[:, 1]\n",
    "\n",
    "plt.figure(figsize=(14,8))\n",
    "sns.scatterplot(x = x, y = y, hue = diagnosticos)"
   ]
  },
  {
   "cell_type": "code",
   "execution_count": null,
   "metadata": {},
   "outputs": [],
   "source": []
  }
 ],
 "metadata": {
  "kernelspec": {
   "display_name": "Python 3.10.4 ('alura')",
   "language": "python",
   "name": "python3"
  },
  "language_info": {
   "codemirror_mode": {
    "name": "ipython",
    "version": 3
   },
   "file_extension": ".py",
   "mimetype": "text/x-python",
   "name": "python",
   "nbconvert_exporter": "python",
   "pygments_lexer": "ipython3",
   "version": "3.10.4"
  },
  "orig_nbformat": 4,
  "vscode": {
   "interpreter": {
    "hash": "fe9dfdffebb56c6bea50f84b873d19c3d1ab3076e15d73833adb74fb23ee6156"
   }
  }
 },
 "nbformat": 4,
 "nbformat_minor": 2
}
