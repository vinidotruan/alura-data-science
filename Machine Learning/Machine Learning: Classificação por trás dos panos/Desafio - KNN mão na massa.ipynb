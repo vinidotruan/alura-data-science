{
 "cells": [
  {
   "cell_type": "code",
   "execution_count": 1,
   "id": "834ccae7",
   "metadata": {},
   "outputs": [],
   "source": [
    "import numpy as np"
   ]
  },
  {
   "cell_type": "code",
   "execution_count": null,
   "id": "0e579e0b",
   "metadata": {},
   "outputs": [],
   "source": [
    "def calcula_distancia(dados_clientes, dados_maria, numero_clientes):\n",
    "    distancias = []\n",
    "\n",
    "    #loop para percorrer cliente por cliente\n",
    "    for i in range(numero_clientes):\n",
    "        #subtração dos atributos\n",
    "        dist1 = dados_maria - dados_clientes[i]\n",
    "        #exponenciação e soma de todos os atributos\n",
    "        soma_quadrado = np.sum(np.square(dist1))\n",
    "        #raiz quadrada da soma anterior\n",
    "        distancias.append(np.sqrt(soma_quadrado))\n",
    "\n",
    "    return distancias"
   ]
  }
 ],
 "metadata": {
  "kernelspec": {
   "display_name": "Python 3 (ipykernel)",
   "language": "python",
   "name": "python3"
  },
  "language_info": {
   "codemirror_mode": {
    "name": "ipython",
    "version": 3
   },
   "file_extension": ".py",
   "mimetype": "text/x-python",
   "name": "python",
   "nbconvert_exporter": "python",
   "pygments_lexer": "ipython3",
   "version": "3.10.4"
  }
 },
 "nbformat": 4,
 "nbformat_minor": 5
}
