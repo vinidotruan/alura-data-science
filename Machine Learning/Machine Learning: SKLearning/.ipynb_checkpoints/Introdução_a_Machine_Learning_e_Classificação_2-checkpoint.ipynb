{
 "cells": [
  {
   "cell_type": "code",
   "execution_count": 0,
   "metadata": {
    "colab": {},
    "colab_type": "code",
    "id": "iN35zFmNyYIc"
   },
   "outputs": [],
   "source": [
    "# features (1 sim, 0 não)\n",
    "# pelo longo?\n",
    "# perna curta?\n",
    "# faz auau?\n",
    "porco1 = [0, 1, 0]\n",
    "porco2 = [0, 1, 1]\n",
    "porco3 = [1, 1, 0]\n",
    "\n",
    "cachorro1 = [0, 1, 1]\n",
    "cachorro2 = [1, 0, 1]\n",
    "cachorro3 = [1, 1, 1]\n",
    "\n",
    "# 1 => porco, 0 => cachorro\n",
    "treino_x = [porco1, porco2, porco3, cachorro1, cachorro2, cachorro3]\n",
    "treino_y = [1,1,1,0,0,0] # labels / etiqueta"
   ]
  },
  {
   "cell_type": "code",
   "execution_count": 2,
   "metadata": {
    "colab": {
     "base_uri": "https://localhost:8080/",
     "height": 87
    },
    "colab_type": "code",
    "id": "tcWrSPHkzaby",
    "outputId": "0675eaa5-68bd-4df2-cafe-a3d94a9fcec9"
   },
   "outputs": [
    {
     "data": {
      "text/plain": [
       "LinearSVC(C=1.0, class_weight=None, dual=True, fit_intercept=True,\n",
       "     intercept_scaling=1, loss='squared_hinge', max_iter=1000,\n",
       "     multi_class='ovr', penalty='l2', random_state=None, tol=0.0001,\n",
       "     verbose=0)"
      ]
     },
     "execution_count": 2,
     "metadata": {
      "tags": []
     },
     "output_type": "execute_result"
    }
   ],
   "source": [
    "from sklearn.svm import LinearSVC\n",
    "\n",
    "model = LinearSVC()\n",
    "model.fit(treino_x, treino_y)"
   ]
  },
  {
   "cell_type": "code",
   "execution_count": 3,
   "metadata": {
    "colab": {
     "base_uri": "https://localhost:8080/",
     "height": 35
    },
    "colab_type": "code",
    "id": "YaUuFWOx0YZF",
    "outputId": "defc66aa-ce1b-460c-895c-e422ffe287c5"
   },
   "outputs": [
    {
     "data": {
      "text/plain": [
       "array([0])"
      ]
     },
     "execution_count": 3,
     "metadata": {
      "tags": []
     },
     "output_type": "execute_result"
    }
   ],
   "source": [
    "animal_misterioso = [1,1,1]\n",
    "model.predict([animal_misterioso])"
   ]
  },
  {
   "cell_type": "code",
   "execution_count": 0,
   "metadata": {
    "colab": {},
    "colab_type": "code",
    "id": "yJEFM8mx0jtR"
   },
   "outputs": [],
   "source": [
    "misterio1 = [1,1,1]\n",
    "misterio2 = [1,1,0]\n",
    "misterio3 = [0,1,1]\n",
    "\n",
    "teste_x = [misterio1, misterio2, misterio3]\n",
    "teste_y = [0, 1, 1]"
   ]
  },
  {
   "cell_type": "code",
   "execution_count": 0,
   "metadata": {
    "colab": {},
    "colab_type": "code",
    "id": "3xOA4L4e03GO"
   },
   "outputs": [],
   "source": [
    "previsoes = model.predict(teste_x)"
   ]
  },
  {
   "cell_type": "code",
   "execution_count": 8,
   "metadata": {
    "colab": {
     "base_uri": "https://localhost:8080/",
     "height": 35
    },
    "colab_type": "code",
    "id": "cUaaDQol1b_D",
    "outputId": "4cd12076-c2e0-433c-b023-b0c3936b5b36"
   },
   "outputs": [
    {
     "name": "stdout",
     "output_type": "stream",
     "text": [
      "Taxa de acerto 66.67\n"
     ]
    }
   ],
   "source": [
    "corretos = (previsoes == teste_y).sum()\n",
    "total = len(teste_x)\n",
    "taxa_de_acerto = corretos/total\n",
    "print(\"Taxa de acerto %.2f\" % (taxa_de_acerto * 100))"
   ]
  },
  {
   "cell_type": "code",
   "execution_count": 9,
   "metadata": {
    "colab": {
     "base_uri": "https://localhost:8080/",
     "height": 34
    },
    "colab_type": "code",
    "id": "T6zhFhQa1c28",
    "outputId": "29ed71f9-5a9d-4de3-84f5-825121a92a0b"
   },
   "outputs": [
    {
     "name": "stdout",
     "output_type": "stream",
     "text": [
      "Taxa de acerto 66.67\n"
     ]
    }
   ],
   "source": [
    "from sklearn.metrics import accuracy_score\n",
    "\n",
    "taxa_de_acerto = accuracy_score(teste_y, previsoes)\n",
    "print(\"Taxa de acerto %.2f\" % (taxa_de_acerto * 100))"
   ]
  },
  {
   "cell_type": "code",
   "execution_count": 0,
   "metadata": {
    "colab": {},
    "colab_type": "code",
    "id": "Z9wOaemi2fzE"
   },
   "outputs": [],
   "source": [
    ""
   ]
  }
 ],
 "metadata": {
  "colab": {
   "collapsed_sections": [],
   "name": "Introdução a Machine Learning e Classificação - 1.ipynb",
   "provenance": [],
   "version": "0.3.2"
  },
  "kernelspec": {
   "display_name": "Python 3",
   "name": "python3"
  }
 },
 "nbformat": 4,
 "nbformat_minor": 0
}
